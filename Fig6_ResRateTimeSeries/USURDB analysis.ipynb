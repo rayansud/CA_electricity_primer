{
 "cells": [
  {
   "cell_type": "code",
   "execution_count": 9,
   "id": "b708c430",
   "metadata": {},
   "outputs": [],
   "source": [
    "import pandas as pd\n",
    "import datetime"
   ]
  },
  {
   "cell_type": "code",
   "execution_count": 17,
   "id": "76298f76",
   "metadata": {},
   "outputs": [
    {
     "name": "stderr",
     "output_type": "stream",
     "text": [
      "/var/folders/h0/rfb20rk90qz0tdgv08kqcyrw0000gn/T/ipykernel_57947/1245519918.py:1: DtypeWarning: Columns (3,28,362,392,397,402,407,412,417,437,442,447,452,457,472,477,482,492,497,502,507,517,522,527,532,542,547,552,557,562,567,572,577,582,587,592,597,602,607,612,617,622,627,632,637,642,647,652,655,668) have mixed types. Specify dtype option on import or set low_memory=False.\n",
      "  usurdb = pd.read_csv('usurdb.csv')\n"
     ]
    }
   ],
   "source": [
    "usurdb = pd.read_csv('usurdb.csv')\n",
    "usurdb = usurdb[usurdb.utility.str.contains(\"pacific gas|southern california|san diego\",case=False)]\n",
    "usurdb = usurdb[usurdb.sector=='Residential']\n",
    "usurdb = usurdb[['name','utility','startdate','energyratestructure/period0/tier0rate']]\n",
    "usurdb.to_csv(\"cleaned tier0 rates.csv\")"
   ]
  },
  {
   "cell_type": "code",
   "execution_count": 16,
   "id": "3ee2b7c0",
   "metadata": {},
   "outputs": [
    {
     "data": {
      "text/html": [
       "<div>\n",
       "<style scoped>\n",
       "    .dataframe tbody tr th:only-of-type {\n",
       "        vertical-align: middle;\n",
       "    }\n",
       "\n",
       "    .dataframe tbody tr th {\n",
       "        vertical-align: top;\n",
       "    }\n",
       "\n",
       "    .dataframe thead th {\n",
       "        text-align: right;\n",
       "    }\n",
       "</style>\n",
       "<table border=\"1\" class=\"dataframe\">\n",
       "  <thead>\n",
       "    <tr style=\"text-align: right;\">\n",
       "      <th></th>\n",
       "      <th>name</th>\n",
       "      <th>utility</th>\n",
       "      <th>startdate</th>\n",
       "      <th>energyratestructure/period0/tier0rate</th>\n",
       "    </tr>\n",
       "  </thead>\n",
       "  <tbody>\n",
       "    <tr>\n",
       "      <th>575</th>\n",
       "      <td>Domestic Service: D - Baseline Region 5</td>\n",
       "      <td>Southern California Edison Co</td>\n",
       "      <td>2014-01-29 06:00:00</td>\n",
       "      <td>0.13233</td>\n",
       "    </tr>\n",
       "    <tr>\n",
       "      <th>3604</th>\n",
       "      <td>E-1 - Baseline Region R</td>\n",
       "      <td>Pacific Gas &amp; Electric Co</td>\n",
       "      <td>2013-12-31 01:00:00</td>\n",
       "      <td>0.13230</td>\n",
       "    </tr>\n",
       "    <tr>\n",
       "      <th>35657</th>\n",
       "      <td>Domestic Service: D - Baseline Region 5</td>\n",
       "      <td>Southern California Edison Co</td>\n",
       "      <td>2015-06-01 00:00:00</td>\n",
       "      <td>0.14883</td>\n",
       "    </tr>\n",
       "    <tr>\n",
       "      <th>38421</th>\n",
       "      <td>Domestic Service: D - Baseline Region 5</td>\n",
       "      <td>Southern California Edison Co</td>\n",
       "      <td>2016-01-01 00:00:00</td>\n",
       "      <td>0.15108</td>\n",
       "    </tr>\n",
       "    <tr>\n",
       "      <th>40267</th>\n",
       "      <td>Domestic Service: D - Baseline Region 5</td>\n",
       "      <td>Southern California Edison Co</td>\n",
       "      <td>2017-01-01 00:00:00</td>\n",
       "      <td>0.16317</td>\n",
       "    </tr>\n",
       "    <tr>\n",
       "      <th>44175</th>\n",
       "      <td>Domestic Service: D - Baseline Region 5</td>\n",
       "      <td>Southern California Edison Co</td>\n",
       "      <td>2018-01-01 00:00:00</td>\n",
       "      <td>0.17464</td>\n",
       "    </tr>\n",
       "  </tbody>\n",
       "</table>\n",
       "</div>"
      ],
      "text/plain": [
       "                                          name                        utility  \\\n",
       "575    Domestic Service: D - Baseline Region 5  Southern California Edison Co   \n",
       "3604                   E-1 - Baseline Region R      Pacific Gas & Electric Co   \n",
       "35657  Domestic Service: D - Baseline Region 5  Southern California Edison Co   \n",
       "38421  Domestic Service: D - Baseline Region 5  Southern California Edison Co   \n",
       "40267  Domestic Service: D - Baseline Region 5  Southern California Edison Co   \n",
       "44175  Domestic Service: D - Baseline Region 5  Southern California Edison Co   \n",
       "\n",
       "                 startdate  energyratestructure/period0/tier0rate  \n",
       "575    2014-01-29 06:00:00                                0.13233  \n",
       "3604   2013-12-31 01:00:00                                0.13230  \n",
       "35657  2015-06-01 00:00:00                                0.14883  \n",
       "38421  2016-01-01 00:00:00                                0.15108  \n",
       "40267  2017-01-01 00:00:00                                0.16317  \n",
       "44175  2018-01-01 00:00:00                                0.17464  "
      ]
     },
     "execution_count": 16,
     "metadata": {},
     "output_type": "execute_result"
    }
   ],
   "source": [
    "usurdb[usurdb.name.str.contains(\"E-1|Domestic Service: D - Baseline Region 5|DR - Inland Baseline Region \t\",case=True)]"
   ]
  }
 ],
 "metadata": {
  "kernelspec": {
   "display_name": "Python 3 (ipykernel)",
   "language": "python",
   "name": "python3"
  },
  "language_info": {
   "codemirror_mode": {
    "name": "ipython",
    "version": 3
   },
   "file_extension": ".py",
   "mimetype": "text/x-python",
   "name": "python",
   "nbconvert_exporter": "python",
   "pygments_lexer": "ipython3",
   "version": "3.10.0"
  }
 },
 "nbformat": 4,
 "nbformat_minor": 5
}
